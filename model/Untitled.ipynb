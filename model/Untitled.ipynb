{
 "cells": [
  {
   "cell_type": "code",
   "execution_count": 3,
   "id": "0c4f7796-cb4d-4932-b396-6b435b43261b",
   "metadata": {},
   "outputs": [
    {
     "ename": "FileNotFoundError",
     "evalue": "[Errno 2] No such file or directory: 'model/alzheimers_xgb_model.pkl'",
     "output_type": "error",
     "traceback": [
      "\u001b[1;31m---------------------------------------------------------------------------\u001b[0m",
      "\u001b[1;31mFileNotFoundError\u001b[0m                         Traceback (most recent call last)",
      "Cell \u001b[1;32mIn[3], line 6\u001b[0m\n\u001b[0;32m      2\u001b[0m \u001b[38;5;28;01mimport\u001b[39;00m\u001b[38;5;250m \u001b[39m\u001b[38;5;21;01mpandas\u001b[39;00m\u001b[38;5;250m \u001b[39m\u001b[38;5;28;01mas\u001b[39;00m\u001b[38;5;250m \u001b[39m\u001b[38;5;21;01mpd\u001b[39;00m\n\u001b[0;32m      3\u001b[0m \u001b[38;5;28;01mimport\u001b[39;00m\u001b[38;5;250m \u001b[39m\u001b[38;5;21;01mjoblib\u001b[39;00m\n\u001b[1;32m----> 6\u001b[0m model \u001b[38;5;241m=\u001b[39m \u001b[43mjoblib\u001b[49m\u001b[38;5;241;43m.\u001b[39;49m\u001b[43mload\u001b[49m\u001b[43m(\u001b[49m\u001b[38;5;124;43m'\u001b[39;49m\u001b[38;5;124;43mmodel/alzheimers_xgb_model.pkl\u001b[39;49m\u001b[38;5;124;43m'\u001b[39;49m\u001b[43m)\u001b[49m\n\u001b[0;32m      9\u001b[0m st\u001b[38;5;241m.\u001b[39mset_page_config(page_title\u001b[38;5;241m=\u001b[39m\u001b[38;5;124m\"\u001b[39m\u001b[38;5;124mAlzheimer\u001b[39m\u001b[38;5;124m'\u001b[39m\u001b[38;5;124ms Prediction App\u001b[39m\u001b[38;5;124m\"\u001b[39m, layout\u001b[38;5;241m=\u001b[39m\u001b[38;5;124m\"\u001b[39m\u001b[38;5;124mcentered\u001b[39m\u001b[38;5;124m\"\u001b[39m)\n\u001b[0;32m     10\u001b[0m st\u001b[38;5;241m.\u001b[39mtitle(\u001b[38;5;124m\"\u001b[39m\u001b[38;5;124m🧠 Alzheimer\u001b[39m\u001b[38;5;124m'\u001b[39m\u001b[38;5;124ms Disease Prediction\u001b[39m\u001b[38;5;124m\"\u001b[39m)\n",
      "File \u001b[1;32m~\\anaconda3\\envs\\myenv\\lib\\site-packages\\joblib\\numpy_pickle.py:735\u001b[0m, in \u001b[0;36mload\u001b[1;34m(filename, mmap_mode, ensure_native_byte_order)\u001b[0m\n\u001b[0;32m    733\u001b[0m         obj \u001b[38;5;241m=\u001b[39m _unpickle(fobj, ensure_native_byte_order\u001b[38;5;241m=\u001b[39mensure_native_byte_order)\n\u001b[0;32m    734\u001b[0m \u001b[38;5;28;01melse\u001b[39;00m:\n\u001b[1;32m--> 735\u001b[0m     \u001b[38;5;28;01mwith\u001b[39;00m \u001b[38;5;28;43mopen\u001b[39;49m\u001b[43m(\u001b[49m\u001b[43mfilename\u001b[49m\u001b[43m,\u001b[49m\u001b[43m \u001b[49m\u001b[38;5;124;43m\"\u001b[39;49m\u001b[38;5;124;43mrb\u001b[39;49m\u001b[38;5;124;43m\"\u001b[39;49m\u001b[43m)\u001b[49m \u001b[38;5;28;01mas\u001b[39;00m f:\n\u001b[0;32m    736\u001b[0m         \u001b[38;5;28;01mwith\u001b[39;00m _validate_fileobject_and_memmap(f, filename, mmap_mode) \u001b[38;5;28;01mas\u001b[39;00m (\n\u001b[0;32m    737\u001b[0m             fobj,\n\u001b[0;32m    738\u001b[0m             validated_mmap_mode,\n\u001b[0;32m    739\u001b[0m         ):\n\u001b[0;32m    740\u001b[0m             \u001b[38;5;28;01mif\u001b[39;00m \u001b[38;5;28misinstance\u001b[39m(fobj, \u001b[38;5;28mstr\u001b[39m):\n\u001b[0;32m    741\u001b[0m                 \u001b[38;5;66;03m# if the returned file object is a string, this means we\u001b[39;00m\n\u001b[0;32m    742\u001b[0m                 \u001b[38;5;66;03m# try to load a pickle file generated with an version of\u001b[39;00m\n\u001b[0;32m    743\u001b[0m                 \u001b[38;5;66;03m# Joblib so we load it with joblib compatibility function.\u001b[39;00m\n",
      "\u001b[1;31mFileNotFoundError\u001b[0m: [Errno 2] No such file or directory: 'model/alzheimers_xgb_model.pkl'"
     ]
    }
   ],
   "source": [
    "import streamlit as st\n",
    "import pandas as pd\n",
    "import joblib\n",
    "\n",
    "\n",
    "model = joblib.load('model/alzheimers_xgb_model.pkl')\n",
    "\n",
    "\n",
    "st.set_page_config(page_title=\"Alzheimer's Prediction App\", layout=\"centered\")\n",
    "st.title(\"🧠 Alzheimer's Disease Prediction\")\n",
    "st.markdown(\"Enter the patient's details below to get a prediction.\")\n",
    "\n",
    "\n",
    "def user_input_features():\n",
    "    \n",
    "    age = st.slider('Age', 40, 100, 65)\n",
    "    gender = st.selectbox('Gender', ['Male', 'Female'])\n",
    "    memory_loss = st.selectbox('Memory Loss Complaints?', ['Yes', 'No'])\n",
    "    reaction_time = st.slider('Reaction Time (ms)', 200, 800, 400)\n",
    "    attention_score = st.slider('Attention Score (0-100)', 0, 100, 70)\n",
    "\n",
    "    gender_encoded = 1 if gender == 'Male' else 0\n",
    "    memory_loss_encoded = 1 if memory_loss == 'Yes' else 0\n",
    "\n",
    "    data = {\n",
    "        'Age': age,\n",
    "        'Gender': gender_encoded,\n",
    "        'Memory_Loss': memory_loss_encoded,\n",
    "        'Reaction_Time': reaction_time,\n",
    "        'Attention_Score': attention_score\n",
    "    }\n",
    "\n",
    "    features = pd.DataFrame([data])\n",
    "    return features\n",
    "\n",
    "input_df = user_input_features()\n",
    "\n",
    "if st.button('Predict'):\n",
    "    prediction = model.predict(input_df)\n",
    "    result = \"Positive (Likely Alzheimer's)\" if prediction[0] == 1 else 'Negative (Unlikely Alzheimer’s)'\n",
    "    st.subheader(\"Prediction Result:\")\n",
    "    st.success(result)\n"
   ]
  },
  {
   "cell_type": "code",
   "execution_count": 4,
   "id": "094cd4d9-08c5-48f6-ae7d-2b5586eb1466",
   "metadata": {},
   "outputs": [
    {
     "ename": "FileNotFoundError",
     "evalue": "[Errno 2] No such file or directory: 'model/alzheimers_xgb_model.pkl'",
     "output_type": "error",
     "traceback": [
      "\u001b[1;31m---------------------------------------------------------------------------\u001b[0m",
      "\u001b[1;31mFileNotFoundError\u001b[0m                         Traceback (most recent call last)",
      "Cell \u001b[1;32mIn[4], line 6\u001b[0m\n\u001b[0;32m      3\u001b[0m \u001b[38;5;28;01mimport\u001b[39;00m\u001b[38;5;250m \u001b[39m\u001b[38;5;21;01mjoblib\u001b[39;00m\n\u001b[0;32m      5\u001b[0m \u001b[38;5;66;03m# Load the trained model\u001b[39;00m\n\u001b[1;32m----> 6\u001b[0m model \u001b[38;5;241m=\u001b[39m \u001b[43mjoblib\u001b[49m\u001b[38;5;241;43m.\u001b[39;49m\u001b[43mload\u001b[49m\u001b[43m(\u001b[49m\u001b[38;5;124;43m'\u001b[39;49m\u001b[38;5;124;43mmodel/alzheimers_xgb_model.pkl\u001b[39;49m\u001b[38;5;124;43m'\u001b[39;49m\u001b[43m)\u001b[49m\n\u001b[0;32m      8\u001b[0m \u001b[38;5;66;03m# Set page config\u001b[39;00m\n\u001b[0;32m      9\u001b[0m st\u001b[38;5;241m.\u001b[39mset_page_config(page_title\u001b[38;5;241m=\u001b[39m\u001b[38;5;124m\"\u001b[39m\u001b[38;5;124mAlzheimer\u001b[39m\u001b[38;5;124m'\u001b[39m\u001b[38;5;124ms Prediction App\u001b[39m\u001b[38;5;124m\"\u001b[39m, layout\u001b[38;5;241m=\u001b[39m\u001b[38;5;124m\"\u001b[39m\u001b[38;5;124mcentered\u001b[39m\u001b[38;5;124m\"\u001b[39m)\n",
      "File \u001b[1;32m~\\anaconda3\\envs\\myenv\\lib\\site-packages\\joblib\\numpy_pickle.py:735\u001b[0m, in \u001b[0;36mload\u001b[1;34m(filename, mmap_mode, ensure_native_byte_order)\u001b[0m\n\u001b[0;32m    733\u001b[0m         obj \u001b[38;5;241m=\u001b[39m _unpickle(fobj, ensure_native_byte_order\u001b[38;5;241m=\u001b[39mensure_native_byte_order)\n\u001b[0;32m    734\u001b[0m \u001b[38;5;28;01melse\u001b[39;00m:\n\u001b[1;32m--> 735\u001b[0m     \u001b[38;5;28;01mwith\u001b[39;00m \u001b[38;5;28;43mopen\u001b[39;49m\u001b[43m(\u001b[49m\u001b[43mfilename\u001b[49m\u001b[43m,\u001b[49m\u001b[43m \u001b[49m\u001b[38;5;124;43m\"\u001b[39;49m\u001b[38;5;124;43mrb\u001b[39;49m\u001b[38;5;124;43m\"\u001b[39;49m\u001b[43m)\u001b[49m \u001b[38;5;28;01mas\u001b[39;00m f:\n\u001b[0;32m    736\u001b[0m         \u001b[38;5;28;01mwith\u001b[39;00m _validate_fileobject_and_memmap(f, filename, mmap_mode) \u001b[38;5;28;01mas\u001b[39;00m (\n\u001b[0;32m    737\u001b[0m             fobj,\n\u001b[0;32m    738\u001b[0m             validated_mmap_mode,\n\u001b[0;32m    739\u001b[0m         ):\n\u001b[0;32m    740\u001b[0m             \u001b[38;5;28;01mif\u001b[39;00m \u001b[38;5;28misinstance\u001b[39m(fobj, \u001b[38;5;28mstr\u001b[39m):\n\u001b[0;32m    741\u001b[0m                 \u001b[38;5;66;03m# if the returned file object is a string, this means we\u001b[39;00m\n\u001b[0;32m    742\u001b[0m                 \u001b[38;5;66;03m# try to load a pickle file generated with an version of\u001b[39;00m\n\u001b[0;32m    743\u001b[0m                 \u001b[38;5;66;03m# Joblib so we load it with joblib compatibility function.\u001b[39;00m\n",
      "\u001b[1;31mFileNotFoundError\u001b[0m: [Errno 2] No such file or directory: 'model/alzheimers_xgb_model.pkl'"
     ]
    }
   ],
   "source": [
    "import streamlit as st\n",
    "import pandas as pd\n",
    "import joblib\n",
    "\n",
    "# Load the trained model\n",
    "model = joblib.load('model/alzheimers_xgb_model.pkl')\n",
    "\n",
    "# Set page config\n",
    "st.set_page_config(page_title=\"Alzheimer's Prediction App\", layout=\"centered\")\n",
    "\n",
    "# Title and instructions\n",
    "st.title(\"🧠 Alzheimer's Disease Prediction App\")\n",
    "st.markdown(\"This tool predicts the likelihood of Alzheimer's based on user input. Fill out the fields below to get a prediction.\")\n",
    "\n",
    "# Collect user input\n",
    "def user_input_features():\n",
    "    age = st.slider('Age', 40, 100, 65)\n",
    "    gender = st.selectbox('Gender', ['Male', 'Female'])\n",
    "    memory_loss = st.selectbox('Memory Loss Complaints?', ['Yes', 'No'])\n",
    "    reaction_time = st.slider('Reaction Time (ms)', 200, 800, 400)\n",
    "    attention_score = st.slider('Attention Score (0-100)', 0, 100, 70)\n",
    "\n",
    "    # Encode categorical variables\n",
    "    gender_encoded = 1 if gender == 'Male' else 0\n",
    "    memory_loss_encoded = 1 if memory_loss == 'Yes' else 0\n",
    "\n",
    "    data = {\n",
    "        'Age': age,\n",
    "        'Gender': gender_encoded,\n",
    "        'Memory_Loss': memory_loss_encoded,\n",
    "        'Reaction_Time': reaction_time,\n",
    "        'Attention_Score': attention_score\n",
    "    }\n",
    "\n",
    "    features = pd.DataFrame([data])\n",
    "    return features\n",
    "\n",
    "# Get user input\n",
    "input_df = user_input_features()\n",
    "\n",
    "# Predict on button click\n",
    "if st.button('Predict'):\n",
    "    prediction = model.predict(input_df)\n",
    "    prediction_proba = model.predict_proba(input_df)\n",
    "\n",
    "    result = \"🟢 **Negative** (Unlikely Alzheimer's)\" if prediction[0] == 0 else \"🔴 **Positive** (Likely Alzheimer's)\"\n",
    "    confidence = round(prediction_proba[0][prediction[0]] * 100, 2)\n",
    "\n",
    "    st.subheader(\"🧾 Prediction Result\")\n",
    "    st.write(result)\n",
    "    st.write(f\"🧪 **Confidence:** {confidence}%\")\n",
    "\n",
    "    st.markdown(\"---\")\n",
    "    st.info(\"This is a machine learning-based tool and should not replace professional medical advice.\")\n"
   ]
  },
  {
   "cell_type": "code",
   "execution_count": 5,
   "id": "191e420a-ba9b-4acc-a19d-2a45759704a3",
   "metadata": {},
   "outputs": [
    {
     "ename": "FileNotFoundError",
     "evalue": "[Errno 2] No such file or directory: 'model\\\\alzheimers_xgb_model.pkl'",
     "output_type": "error",
     "traceback": [
      "\u001b[1;31m---------------------------------------------------------------------------\u001b[0m",
      "\u001b[1;31mFileNotFoundError\u001b[0m                         Traceback (most recent call last)",
      "Cell \u001b[1;32mIn[5], line 10\u001b[0m\n\u001b[0;32m      7\u001b[0m model_path \u001b[38;5;241m=\u001b[39m os\u001b[38;5;241m.\u001b[39mpath\u001b[38;5;241m.\u001b[39mjoin(\u001b[38;5;124m\"\u001b[39m\u001b[38;5;124mmodel\u001b[39m\u001b[38;5;124m\"\u001b[39m, \u001b[38;5;124m\"\u001b[39m\u001b[38;5;124malzheimers_xgb_model.pkl\u001b[39m\u001b[38;5;124m\"\u001b[39m)\n\u001b[0;32m      9\u001b[0m \u001b[38;5;66;03m# Load the trained model\u001b[39;00m\n\u001b[1;32m---> 10\u001b[0m \u001b[38;5;28;01mwith\u001b[39;00m \u001b[38;5;28;43mopen\u001b[39;49m\u001b[43m(\u001b[49m\u001b[43mmodel_path\u001b[49m\u001b[43m,\u001b[49m\u001b[43m \u001b[49m\u001b[38;5;124;43m'\u001b[39;49m\u001b[38;5;124;43mrb\u001b[39;49m\u001b[38;5;124;43m'\u001b[39;49m\u001b[43m)\u001b[49m \u001b[38;5;28;01mas\u001b[39;00m file:\n\u001b[0;32m     11\u001b[0m     model \u001b[38;5;241m=\u001b[39m pickle\u001b[38;5;241m.\u001b[39mload(file)\n\u001b[0;32m     13\u001b[0m st\u001b[38;5;241m.\u001b[39mtitle(\u001b[38;5;124m\"\u001b[39m\u001b[38;5;124mAlzheimer\u001b[39m\u001b[38;5;124m'\u001b[39m\u001b[38;5;124ms Disease Prediction\u001b[39m\u001b[38;5;124m\"\u001b[39m)\n",
      "File \u001b[1;32m~\\anaconda3\\envs\\myenv\\lib\\site-packages\\IPython\\core\\interactiveshell.py:286\u001b[0m, in \u001b[0;36m_modified_open\u001b[1;34m(file, *args, **kwargs)\u001b[0m\n\u001b[0;32m    279\u001b[0m \u001b[38;5;28;01mif\u001b[39;00m file \u001b[38;5;129;01min\u001b[39;00m {\u001b[38;5;241m0\u001b[39m, \u001b[38;5;241m1\u001b[39m, \u001b[38;5;241m2\u001b[39m}:\n\u001b[0;32m    280\u001b[0m     \u001b[38;5;28;01mraise\u001b[39;00m \u001b[38;5;167;01mValueError\u001b[39;00m(\n\u001b[0;32m    281\u001b[0m         \u001b[38;5;124mf\u001b[39m\u001b[38;5;124m\"\u001b[39m\u001b[38;5;124mIPython won\u001b[39m\u001b[38;5;124m'\u001b[39m\u001b[38;5;124mt let you open fd=\u001b[39m\u001b[38;5;132;01m{\u001b[39;00mfile\u001b[38;5;132;01m}\u001b[39;00m\u001b[38;5;124m by default \u001b[39m\u001b[38;5;124m\"\u001b[39m\n\u001b[0;32m    282\u001b[0m         \u001b[38;5;124m\"\u001b[39m\u001b[38;5;124mas it is likely to crash IPython. If you know what you are doing, \u001b[39m\u001b[38;5;124m\"\u001b[39m\n\u001b[0;32m    283\u001b[0m         \u001b[38;5;124m\"\u001b[39m\u001b[38;5;124myou can use builtins\u001b[39m\u001b[38;5;124m'\u001b[39m\u001b[38;5;124m open.\u001b[39m\u001b[38;5;124m\"\u001b[39m\n\u001b[0;32m    284\u001b[0m     )\n\u001b[1;32m--> 286\u001b[0m \u001b[38;5;28;01mreturn\u001b[39;00m io_open(file, \u001b[38;5;241m*\u001b[39margs, \u001b[38;5;241m*\u001b[39m\u001b[38;5;241m*\u001b[39mkwargs)\n",
      "\u001b[1;31mFileNotFoundError\u001b[0m: [Errno 2] No such file or directory: 'model\\\\alzheimers_xgb_model.pkl'"
     ]
    }
   ],
   "source": [
    "import streamlit as st\n",
    "import pickle\n",
    "import numpy as np\n",
    "import os\n",
    "\n",
    "# Path to your model file inside the project folder\n",
    "model_path = os.path.join(\"model\", \"alzheimers_xgb_model.pkl\")\n",
    "\n",
    "# Load the trained model\n",
    "with open(model_path, 'rb') as file:\n",
    "    model = pickle.load(file)\n",
    "\n",
    "st.title(\"Alzheimer's Disease Prediction\")\n",
    "\n",
    "# TODO: Replace these inputs with your actual feature names and types\n",
    "age = st.number_input(\"Age\", min_value=30, max_value=100, value=65)\n",
    "gender = st.selectbox(\"Gender\", options=[\"Male\", \"Female\"])\n",
    "feature1 = st.number_input(\"Feature 1\", value=0.0)\n",
    "feature2 = st.number_input(\"Feature 2\", value=0.0)\n",
    "\n",
    "# Example encoding for gender\n",
    "gender_encoded = 1 if gender == \"Male\" else 0\n",
    "\n",
    "# Prepare features for prediction\n",
    "input_features = np.array([[age, gender_encoded, feature1, feature2]])\n",
    "\n",
    "if st.button(\"Predict\"):\n",
    "    prediction = model.predict(input_features)\n",
    "    prediction_proba = model.predict_proba(input_features)\n",
    "\n",
    "    if prediction[0] == 1:\n",
    "        st.error(f\"Prediction: Positive for Alzheimer's Disease (Probability: {prediction_proba[0][1]:.2f})\")\n",
    "    else:\n",
    "        st.success(f\"Prediction: Negative for Alzheimer's Disease (Probability: {prediction_proba[0][0]:.2f})\")\n"
   ]
  },
  {
   "cell_type": "code",
   "execution_count": 6,
   "id": "9be0b339-a6bc-4957-b875-7a178acb8735",
   "metadata": {},
   "outputs": [
    {
     "name": "stdout",
     "output_type": "stream",
     "text": [
      "[WinError 3] The system cannot find the path specified: 'path/to/Alzheimers project -1'\n",
      "C:\\Users\\torah\\Alzheimers_Project -1\\model\n"
     ]
    }
   ],
   "source": [
    "cd \"path/to/Alzheimers project -1\"\n"
   ]
  },
  {
   "cell_type": "code",
   "execution_count": 7,
   "id": "b760cd97-c0ba-4074-9ce3-c858ab619061",
   "metadata": {},
   "outputs": [
    {
     "name": "stdout",
     "output_type": "stream",
     "text": [
      "[WinError 3] The system cannot find the path specified: 'path/to/Alzheimers_project -1'\n",
      "C:\\Users\\torah\\Alzheimers_Project -1\\model\n"
     ]
    }
   ],
   "source": [
    "cd path/to/Alzheimers_project -1\n"
   ]
  },
  {
   "cell_type": "code",
   "execution_count": 8,
   "id": "e41cfad2-9b69-44cc-8163-ed5fb3e3c029",
   "metadata": {},
   "outputs": [
    {
     "name": "stdout",
     "output_type": "stream",
     "text": [
      "[WinError 3] The system cannot find the path specified: 'path/to/Alzheimers_Project -1'\n",
      "C:\\Users\\torah\\Alzheimers_Project -1\\model\n"
     ]
    }
   ],
   "source": [
    "cd path/to/Alzheimers_Project -1\n"
   ]
  },
  {
   "cell_type": "code",
   "execution_count": 9,
   "id": "bad11fc6-88fa-4bdf-9146-54a8d081aa20",
   "metadata": {},
   "outputs": [
    {
     "name": "stdout",
     "output_type": "stream",
     "text": [
      "C:\\Users\\torah\\Alzheimers_Project -1\n"
     ]
    }
   ],
   "source": [
    "cd \"C:\\Users\\torah\\Alzheimers_Project -1\"\n"
   ]
  },
  {
   "cell_type": "code",
   "execution_count": 10,
   "id": "43404c5a-8d2d-4668-8796-a09c305aa9fc",
   "metadata": {},
   "outputs": [
    {
     "name": "stdout",
     "output_type": "stream",
     "text": [
      "C:\\Users\\torah\\Alzheimers_Project -1\n"
     ]
    }
   ],
   "source": [
    "cd \"C:\\Users\\torah\\Alzheimers_Project -1\"\n"
   ]
  },
  {
   "cell_type": "code",
   "execution_count": 11,
   "id": "d71fc11b-7676-42e8-9f68-ec2700fd761d",
   "metadata": {},
   "outputs": [
    {
     "name": "stderr",
     "output_type": "stream",
     "text": [
      "2025-05-28 14:23:17.275 WARNING streamlit.runtime.scriptrunner_utils.script_run_context: Thread 'MainThread': missing ScriptRunContext! This warning can be ignored when running in bare mode.\n",
      "2025-05-28 14:23:17.461 \n",
      "  \u001b[33m\u001b[1mWarning:\u001b[0m to view this Streamlit app on a browser, run it with the following\n",
      "  command:\n",
      "\n",
      "    streamlit run C:\\Users\\torah\\anaconda3\\envs\\myenv\\lib\\site-packages\\ipykernel_launcher.py [ARGUMENTS]\n",
      "2025-05-28 14:23:17.461 Thread 'MainThread': missing ScriptRunContext! This warning can be ignored when running in bare mode.\n",
      "2025-05-28 14:23:17.465 Thread 'MainThread': missing ScriptRunContext! This warning can be ignored when running in bare mode.\n",
      "2025-05-28 14:23:17.465 Thread 'MainThread': missing ScriptRunContext! This warning can be ignored when running in bare mode.\n",
      "2025-05-28 14:23:20.333 Thread 'MainThread': missing ScriptRunContext! This warning can be ignored when running in bare mode.\n",
      "2025-05-28 14:23:20.333 Thread 'MainThread': missing ScriptRunContext! This warning can be ignored when running in bare mode.\n",
      "2025-05-28 14:23:20.333 Thread 'MainThread': missing ScriptRunContext! This warning can be ignored when running in bare mode.\n",
      "2025-05-28 14:23:20.333 Thread 'MainThread': missing ScriptRunContext! This warning can be ignored when running in bare mode.\n",
      "2025-05-28 14:23:20.333 Thread 'MainThread': missing ScriptRunContext! This warning can be ignored when running in bare mode.\n",
      "2025-05-28 14:23:20.342 Thread 'MainThread': missing ScriptRunContext! This warning can be ignored when running in bare mode.\n",
      "2025-05-28 14:23:20.344 Session state does not function when running a script without `streamlit run`\n",
      "2025-05-28 14:23:20.344 Thread 'MainThread': missing ScriptRunContext! This warning can be ignored when running in bare mode.\n",
      "2025-05-28 14:23:20.344 Thread 'MainThread': missing ScriptRunContext! This warning can be ignored when running in bare mode.\n",
      "2025-05-28 14:23:20.349 Thread 'MainThread': missing ScriptRunContext! This warning can be ignored when running in bare mode.\n",
      "2025-05-28 14:23:20.349 Thread 'MainThread': missing ScriptRunContext! This warning can be ignored when running in bare mode.\n",
      "2025-05-28 14:23:20.353 Thread 'MainThread': missing ScriptRunContext! This warning can be ignored when running in bare mode.\n",
      "2025-05-28 14:23:20.353 Thread 'MainThread': missing ScriptRunContext! This warning can be ignored when running in bare mode.\n",
      "2025-05-28 14:23:20.353 Thread 'MainThread': missing ScriptRunContext! This warning can be ignored when running in bare mode.\n",
      "2025-05-28 14:23:20.358 Thread 'MainThread': missing ScriptRunContext! This warning can be ignored when running in bare mode.\n",
      "2025-05-28 14:23:20.358 Thread 'MainThread': missing ScriptRunContext! This warning can be ignored when running in bare mode.\n",
      "2025-05-28 14:23:20.364 Thread 'MainThread': missing ScriptRunContext! This warning can be ignored when running in bare mode.\n",
      "2025-05-28 14:23:20.368 Thread 'MainThread': missing ScriptRunContext! This warning can be ignored when running in bare mode.\n",
      "2025-05-28 14:23:20.370 Thread 'MainThread': missing ScriptRunContext! This warning can be ignored when running in bare mode.\n",
      "2025-05-28 14:23:20.374 Thread 'MainThread': missing ScriptRunContext! This warning can be ignored when running in bare mode.\n",
      "2025-05-28 14:23:20.374 Thread 'MainThread': missing ScriptRunContext! This warning can be ignored when running in bare mode.\n",
      "2025-05-28 14:23:20.374 Thread 'MainThread': missing ScriptRunContext! This warning can be ignored when running in bare mode.\n",
      "2025-05-28 14:23:20.374 Thread 'MainThread': missing ScriptRunContext! This warning can be ignored when running in bare mode.\n",
      "2025-05-28 14:23:20.382 Thread 'MainThread': missing ScriptRunContext! This warning can be ignored when running in bare mode.\n",
      "2025-05-28 14:23:20.382 Thread 'MainThread': missing ScriptRunContext! This warning can be ignored when running in bare mode.\n",
      "2025-05-28 14:23:20.382 Thread 'MainThread': missing ScriptRunContext! This warning can be ignored when running in bare mode.\n",
      "2025-05-28 14:23:20.382 Thread 'MainThread': missing ScriptRunContext! This warning can be ignored when running in bare mode.\n",
      "2025-05-28 14:23:20.391 Thread 'MainThread': missing ScriptRunContext! This warning can be ignored when running in bare mode.\n",
      "2025-05-28 14:23:20.391 Thread 'MainThread': missing ScriptRunContext! This warning can be ignored when running in bare mode.\n",
      "2025-05-28 14:23:20.394 Thread 'MainThread': missing ScriptRunContext! This warning can be ignored when running in bare mode.\n",
      "2025-05-28 14:23:20.399 Thread 'MainThread': missing ScriptRunContext! This warning can be ignored when running in bare mode.\n",
      "2025-05-28 14:23:20.399 Thread 'MainThread': missing ScriptRunContext! This warning can be ignored when running in bare mode.\n"
     ]
    }
   ],
   "source": [
    "import streamlit as st\n",
    "import pickle\n",
    "import numpy as np\n",
    "import os\n",
    "\n",
    "# Show current working directory (for debugging, you can remove this later)\n",
    "st.write(\"Working directory:\", os.getcwd())\n",
    "\n",
    "# Path to your saved model inside 'model' folder\n",
    "model_path = os.path.join(\"model\", \"alzheimers_xgb_model.pkl\")\n",
    "\n",
    "# Load the trained XGBoost model\n",
    "with open(model_path, 'rb') as file:\n",
    "    model = pickle.load(file)\n",
    "\n",
    "st.title(\"Alzheimer's Disease Prediction\")\n",
    "\n",
    "# === Customize these inputs based on your model's features ===\n",
    "\n",
    "# Example features (replace these with your actual features)\n",
    "age = st.number_input(\"Age\", min_value=30, max_value=100, value=65)\n",
    "gender = st.selectbox(\"Gender\", options=[\"Male\", \"Female\"])\n",
    "feature1 = st.number_input(\"Feature 1\", value=0.0)\n",
    "feature2 = st.number_input(\"Feature 2\", value=0.0)\n",
    "# Add more input fields as needed\n",
    "\n",
    "# Encode gender as numeric\n",
    "gender_encoded = 1 if gender == \"Male\" else 0\n",
    "\n",
    "# Prepare input array for prediction\n",
    "input_features = np.array([[age, gender_encoded, feature1, feature2]])\n",
    "\n",
    "if st.button(\"Predict\"):\n",
    "    prediction = model.predict(input_features)\n",
    "    prediction_proba = model.predict_proba(input_features)\n",
    "\n",
    "    if prediction[0] == 1:\n",
    "        st.error(f\"Prediction: Positive for Alzheimer's Disease (Probability: {prediction_proba[0][1]:.2f})\")\n",
    "    else:\n",
    "        st.success(f\"Prediction: Negative for Alzheimer's Disease (Probability: {prediction_proba[0][0]:.2f})\")\n"
   ]
  },
  {
   "cell_type": "code",
   "execution_count": 12,
   "id": "ba1da01f-3b28-4926-a5a7-c6c01a4c2894",
   "metadata": {},
   "outputs": [
    {
     "ename": "SyntaxError",
     "evalue": "invalid syntax (507122745.py, line 1)",
     "output_type": "error",
     "traceback": [
      "\u001b[1;36m  Cell \u001b[1;32mIn[12], line 1\u001b[1;36m\u001b[0m\n\u001b[1;33m    streamlit run app.py\u001b[0m\n\u001b[1;37m              ^\u001b[0m\n\u001b[1;31mSyntaxError\u001b[0m\u001b[1;31m:\u001b[0m invalid syntax\n"
     ]
    }
   ],
   "source": [
    "streamlit run app.py\n"
   ]
  },
  {
   "cell_type": "code",
   "execution_count": null,
   "id": "dcf8da23-a058-4ab9-bad9-b018a3c4f2f9",
   "metadata": {},
   "outputs": [],
   "source": []
  }
 ],
 "metadata": {
  "kernelspec": {
   "display_name": "Python 3 (myenv)",
   "language": "python",
   "name": "myenv"
  },
  "language_info": {
   "codemirror_mode": {
    "name": "ipython",
    "version": 3
   },
   "file_extension": ".py",
   "mimetype": "text/x-python",
   "name": "python",
   "nbconvert_exporter": "python",
   "pygments_lexer": "ipython3",
   "version": "3.9.21"
  }
 },
 "nbformat": 4,
 "nbformat_minor": 5
}
